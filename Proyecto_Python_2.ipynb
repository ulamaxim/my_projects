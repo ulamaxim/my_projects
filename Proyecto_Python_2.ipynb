{
 "cells": [
  {
   "cell_type": "markdown",
   "metadata": {},
   "source": [
    "# Proyecto para resolver un problema empresarial complejo"
   ]
  },
  {
   "cell_type": "markdown",
   "metadata": {},
   "source": [
    "# Objetivos del proyecto\n",
    "Crear una hoja de calculos que servira como base de sistema de recomendaciones de cursos."
   ]
  },
  {
   "cell_type": "markdown",
   "metadata": {},
   "source": [
    "Primero hay que obtener los datos de la base de datos\\\n",
    "Para eso escribiremos un codigo SQL y descargaremos el resultado al DataFrame"
   ]
  },
  {
   "cell_type": "code",
   "execution_count": null,
   "metadata": {},
   "outputs": [],
   "source": [
    "# Importamos las bibliotecas\n",
    "import pandas as pd\n",
    "import psycopg2\n",
    "import psycopg2.extras \n",
    "import numpy as np\n",
    "import itertools\n",
    "from collections import Counter"
   ]
  },
  {
   "cell_type": "code",
   "execution_count": null,
   "metadata": {},
   "outputs": [],
   "source": [
    "# Escribimos el codigo SQL y lo adjuntamos a la variable query\n",
    "query = '''with joined as \\\n",
    "\t(select \\\n",
    "\t \tca.user_id, \\\n",
    "\t \tci.resource_id, \\\n",
    "\t \tci.resource_type, \\\n",
    "\t \tca.state \\\n",
    "\tfrom \\\n",
    "\t\tfinal.carts as ca \\\n",
    "\tjoin \\\n",
    "\t\tfinal.cart_items as ci on ca.id=ci.cart_id\\\n",
    "\twhere \\\n",
    "\t\tci.resource_type='Course' and ca.state='successful' ),\\\n",
    "\\\n",
    "course_count as \\\n",
    "\t(select \\\n",
    "\t\tuser_id, \\\n",
    "\t\tcount( distinct resource_id) as cnt \\\n",
    "\tfrom joined \\\n",
    "\twhere \\\n",
    "\t\tresource_type='Course' and state='successful' group by user_id) \\\n",
    "select \\\n",
    "\tdistinct(cc.user_id), \\\n",
    "\tj.resource_id \\\n",
    "from course_count cc \\\n",
    "join \\\n",
    "\tjoined j on cc.user_id=j.user_id \\\n",
    "where \\\n",
    "\tcc.cnt>1 \\\n",
    "order by 1'''.format()"
   ]
  },
  {
   "cell_type": "code",
   "execution_count": null,
   "metadata": {},
   "outputs": [],
   "source": [
    "# Escribimos una funcion para obtener los datos de la base de datos y los guardamos en la variable df\n",
    "def get_data():\n",
    "    conn = psycopg2.connect(\n",
    "        dbname='skillfactory',\n",
    "        user='skillfactory',\n",
    "        host='84.201.134.129',\n",
    "        password='cCkxxLVrDE8EbvjueeMedPKt', \n",
    "        port='5432',\n",
    "        )\n",
    "    dict_cur = conn.cursor(cursor_factory=psycopg2.extras.DictCursor)\n",
    "    dict_cur.execute(query)\n",
    "    rows = dict_cur.fetchall()\n",
    "    data = []\n",
    "    for row in rows:\n",
    "        data.append(dict(row))\n",
    "    return data\n",
    "\n",
    "df = pd.DataFrame(get_data())"
   ]
  },
  {
   "cell_type": "code",
   "execution_count": null,
   "metadata": {},
   "outputs": [],
   "source": [
    "# Cramos la variable pair_courses_cnt en la cual vamos a guardar pares de los cursos comprados y la cantidad de veces estos cursos han sido comprados\n",
    "# Agrupamos el dataframe\n",
    "df_set = df.groupby('user_id')['resource_id'].agg(['nunique', set]).reset_index()\n",
    "\n",
    "# Creamos la variable pairs, en la cual escribimos todas las combinaciones de pares de cursos posibles\n",
    "pairs = df_set['set'].apply(lambda x: list(itertools.combinations(sorted(x), 2)))\n",
    "\n",
    "# Creamos la variable pair_courses, en la cual escribimos los pares de cursos usando la funcion de ciclo\n",
    "pair_courses = []\n",
    "for course in pairs.values:\n",
    "    for elements in course:\n",
    "        pair_courses.append(elements)\n",
    "\n",
    "# Con la funcion de Counter contamos la cantidad de pares. \n",
    "# Obtenemos el diccionario pair_courses_cnt\n",
    "# En el cual la llave es el par de cursos y el significado es la cantidad de veces que ese par ha sido comprado\n",
    "pair_courses_cnt = Counter(pair_courses)"
   ]
  },
  {
   "cell_type": "code",
   "execution_count": null,
   "metadata": {},
   "outputs": [
    {
     "data": {
      "text/html": [
       "<div>\n",
       "<style scoped>\n",
       "    .dataframe tbody tr th:only-of-type {\n",
       "        vertical-align: middle;\n",
       "    }\n",
       "\n",
       "    .dataframe tbody tr th {\n",
       "        vertical-align: top;\n",
       "    }\n",
       "\n",
       "    .dataframe thead th {\n",
       "        text-align: right;\n",
       "    }\n",
       "</style>\n",
       "<table border=\"1\" class=\"dataframe\">\n",
       "  <thead>\n",
       "    <tr style=\"text-align: right;\">\n",
       "      <th></th>\n",
       "      <th>pair</th>\n",
       "      <th>value</th>\n",
       "    </tr>\n",
       "  </thead>\n",
       "  <tbody>\n",
       "    <tr>\n",
       "      <th>186</th>\n",
       "      <td>(551, 566)</td>\n",
       "      <td>797</td>\n",
       "    </tr>\n",
       "    <tr>\n",
       "      <th>381</th>\n",
       "      <td>(515, 551)</td>\n",
       "      <td>417</td>\n",
       "    </tr>\n",
       "    <tr>\n",
       "      <th>205</th>\n",
       "      <td>(489, 551)</td>\n",
       "      <td>311</td>\n",
       "    </tr>\n",
       "    <tr>\n",
       "      <th>105</th>\n",
       "      <td>(523, 551)</td>\n",
       "      <td>304</td>\n",
       "    </tr>\n",
       "    <tr>\n",
       "      <th>519</th>\n",
       "      <td>(566, 794)</td>\n",
       "      <td>290</td>\n",
       "    </tr>\n",
       "  </tbody>\n",
       "</table>\n",
       "</div>"
      ],
      "text/plain": [
       "           pair  value\n",
       "186  (551, 566)    797\n",
       "381  (515, 551)    417\n",
       "205  (489, 551)    311\n",
       "105  (523, 551)    304\n",
       "519  (566, 794)    290"
      ]
     },
     "execution_count": 63,
     "metadata": {},
     "output_type": "execute_result"
    }
   ],
   "source": [
    "# Creamos el dataframe pair_df para contar el valor minimo de la frequencia de compra de el par de cursos \n",
    "pair_df = pd.DataFrame({'pair':pair_courses_cnt.keys(), 'value':pair_courses_cnt.values()})\n",
    "pair_df = pair_df.sort_values(by='value', ascending=False)\n",
    "pair_df.head(5)"
   ]
  },
  {
   "cell_type": "code",
   "execution_count": null,
   "metadata": {},
   "outputs": [
    {
     "data": {
      "text/plain": [
       "count    3989.000000\n",
       "mean       10.031838\n",
       "std        26.355998\n",
       "min         1.000000\n",
       "25%         1.000000\n",
       "50%         3.000000\n",
       "75%         9.000000\n",
       "max       797.000000\n",
       "Name: value, dtype: float64"
      ]
     },
     "metadata": {},
     "output_type": "display_data"
    },
    {
     "data": {
      "text/plain": [
       "9.0"
      ]
     },
     "metadata": {},
     "output_type": "display_data"
    }
   ],
   "source": [
    "# En la variable min_freq escribimos el 75% de la frecuencia de compra. Esa sera nuestro limite de frecuencia bajo\n",
    "# Ademas aplique la funcion \"describe\" para la columna de frequencia de compras para ver mejor los valores\n",
    "# Eligi el 75% como limite porque con el limite mas alto, en la hoja de calculos resultada se borraban demasiados valores\n",
    "min_freq = np.percentile(pair_df['value'], 75)\n",
    "display(pair_df['value'].describe())\n",
    "display(min_freq)"
   ]
  },
  {
   "cell_type": "code",
   "execution_count": null,
   "metadata": {},
   "outputs": [
    {
     "data": {
      "text/html": [
       "<div>\n",
       "<style scoped>\n",
       "    .dataframe tbody tr th:only-of-type {\n",
       "        vertical-align: middle;\n",
       "    }\n",
       "\n",
       "    .dataframe tbody tr th {\n",
       "        vertical-align: top;\n",
       "    }\n",
       "\n",
       "    .dataframe thead th {\n",
       "        text-align: right;\n",
       "    }\n",
       "</style>\n",
       "<table border=\"1\" class=\"dataframe\">\n",
       "  <thead>\n",
       "    <tr style=\"text-align: right;\">\n",
       "      <th></th>\n",
       "      <th>course_id</th>\n",
       "    </tr>\n",
       "  </thead>\n",
       "  <tbody>\n",
       "    <tr>\n",
       "      <th>0</th>\n",
       "      <td>513</td>\n",
       "    </tr>\n",
       "    <tr>\n",
       "      <th>1</th>\n",
       "      <td>514</td>\n",
       "    </tr>\n",
       "    <tr>\n",
       "      <th>2</th>\n",
       "      <td>515</td>\n",
       "    </tr>\n",
       "    <tr>\n",
       "      <th>3</th>\n",
       "      <td>516</td>\n",
       "    </tr>\n",
       "    <tr>\n",
       "      <th>4</th>\n",
       "      <td>517</td>\n",
       "    </tr>\n",
       "  </tbody>\n",
       "</table>\n",
       "</div>"
      ],
      "text/plain": [
       "   course_id\n",
       "0        513\n",
       "1        514\n",
       "2        515\n",
       "3        516\n",
       "4        517"
      ]
     },
     "execution_count": 79,
     "metadata": {},
     "output_type": "execute_result"
    }
   ],
   "source": [
    "# Creamos la hoja de calculos con los identificadores de cursos unicos.\n",
    "# De esa hoja vamos a sacar los valores y transferirlos a la funcion\n",
    "courses_id = set()\n",
    "for i in pair_courses:\n",
    "    for elem in i:\n",
    "        courses_id.add(elem)\n",
    "unique_courses = pd.DataFrame(courses_id, columns=['course_id'])\n",
    "unique_courses.head(5)"
   ]
  },
  {
   "cell_type": "code",
   "execution_count": null,
   "metadata": {},
   "outputs": [],
   "source": [
    "# Escribimos la funcion de la lista de recomendaciones\n",
    "\n",
    "def recomendation(course_id):\n",
    "    # Primero creamos el ciclo, que iterará sobre los valores de la variable pair_courses_cnt y los escribira en la variable freq\n",
    "    # Ademas esa funcion va a comprobar 2 condiciones:\n",
    "    # 1 Correspondencia del valor de ciclo y del valor transferido a la funcion\n",
    "    # 2 Comprobar que la frequencia de id del curso es mayor que el limite de la frequencia bajo\n",
    "    freq = []\n",
    "    for i in pair_courses_cnt.keys():\n",
    "        if i[0] == course_id and pair_courses_cnt[i] >= min_freq:\n",
    "            freq.append((i, pair_courses_cnt[i]))\n",
    "    \n",
    "    # A continuacion ordenamos la lista freq en descendencia\n",
    "    freq = sorted(freq, key=lambda x: x[1], reverse=True)\n",
    "    \n",
    "    # Mostramos las recomendaciones resultantes, que corresponden a las condiciones anteriores\n",
    "    # Si la recomendacion no cumple las condidiones entonces recomendamos los 2 cursos mas populares\n",
    "    if len(freq) >= 2:\n",
    "        recom_1 = freq[0][0][1]\n",
    "        recom_2 = freq[1][0][1]\n",
    "    else: \n",
    "        recom_1 = 551\n",
    "        recom_2 = 556\n",
    "    return recom_1, recom_2"
   ]
  },
  {
   "cell_type": "code",
   "execution_count": null,
   "metadata": {},
   "outputs": [
    {
     "data": {
      "text/html": [
       "<div>\n",
       "<style scoped>\n",
       "    .dataframe tbody tr th:only-of-type {\n",
       "        vertical-align: middle;\n",
       "    }\n",
       "\n",
       "    .dataframe tbody tr th {\n",
       "        vertical-align: top;\n",
       "    }\n",
       "\n",
       "    .dataframe thead th {\n",
       "        text-align: right;\n",
       "    }\n",
       "</style>\n",
       "<table border=\"1\" class=\"dataframe\">\n",
       "  <thead>\n",
       "    <tr style=\"text-align: right;\">\n",
       "      <th></th>\n",
       "      <th>course_id</th>\n",
       "      <th>recom_1</th>\n",
       "      <th>recom_2</th>\n",
       "    </tr>\n",
       "  </thead>\n",
       "  <tbody>\n",
       "    <tr>\n",
       "      <th>0</th>\n",
       "      <td>513</td>\n",
       "      <td>551</td>\n",
       "      <td>1141</td>\n",
       "    </tr>\n",
       "    <tr>\n",
       "      <th>1</th>\n",
       "      <td>514</td>\n",
       "      <td>551</td>\n",
       "      <td>515</td>\n",
       "    </tr>\n",
       "    <tr>\n",
       "      <th>2</th>\n",
       "      <td>515</td>\n",
       "      <td>551</td>\n",
       "      <td>523</td>\n",
       "    </tr>\n",
       "    <tr>\n",
       "      <th>3</th>\n",
       "      <td>516</td>\n",
       "      <td>745</td>\n",
       "      <td>553</td>\n",
       "    </tr>\n",
       "    <tr>\n",
       "      <th>4</th>\n",
       "      <td>517</td>\n",
       "      <td>551</td>\n",
       "      <td>750</td>\n",
       "    </tr>\n",
       "  </tbody>\n",
       "</table>\n",
       "</div>"
      ],
      "text/plain": [
       "   course_id  recom_1  recom_2\n",
       "0        513      551     1141\n",
       "1        514      551      515\n",
       "2        515      551      523\n",
       "3        516      745      553\n",
       "4        517      551      750"
      ]
     },
     "execution_count": 82,
     "metadata": {},
     "output_type": "execute_result"
    }
   ],
   "source": [
    "# Aplicamos la funcion a la hoja unique_courses\n",
    "unique_courses[['recom_1', 'recom_2']] = unique_courses['course_id'].apply(lambda x: pd.Series(recomendation(x)))\n",
    "unique_courses.head(5)"
   ]
  }
 ],
 "metadata": {
  "kernelspec": {
   "display_name": "Python 3",
   "language": "python",
   "name": "python3"
  },
  "language_info": {
   "codemirror_mode": {
    "name": "ipython",
    "version": 3
   },
   "file_extension": ".py",
   "mimetype": "text/x-python",
   "name": "python",
   "nbconvert_exporter": "python",
   "pygments_lexer": "ipython3",
   "version": "3.9.10"
  },
  "orig_nbformat": 4
 },
 "nbformat": 4,
 "nbformat_minor": 2
}
